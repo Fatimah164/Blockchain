{
  "nbformat": 4,
  "nbformat_minor": 0,
  "metadata": {
    "colab": {
      "name": "blockchain.ipynb",
      "provenance": []
    },
    "kernelspec": {
      "name": "python3",
      "display_name": "Python 3"
    }
  },
  "cells": [
    {
      "cell_type": "code",
      "metadata": {
        "id": "ozQ2PW8UE7mn",
        "colab_type": "code",
        "outputId": "4885855d-2227-4936-aee8-14da426fd1b5",
        "colab": {
          "base_uri": "https://localhost:8080/",
          "height": 202
        }
      },
      "source": [
        "!pip install Flask==1.0 requests==2.18.4"
      ],
      "execution_count": 0,
      "outputs": [
        {
          "output_type": "stream",
          "text": [
            "Requirement already satisfied: Flask==1.0 in /usr/local/lib/python3.6/dist-packages (1.0)\n",
            "Requirement already satisfied: requests==2.18.4 in /usr/local/lib/python3.6/dist-packages (2.18.4)\n",
            "Requirement already satisfied: itsdangerous>=0.24 in /usr/local/lib/python3.6/dist-packages (from Flask==1.0) (1.1.0)\n",
            "Requirement already satisfied: click>=5.1 in /usr/local/lib/python3.6/dist-packages (from Flask==1.0) (7.0)\n",
            "Requirement already satisfied: Jinja2>=2.10 in /usr/local/lib/python3.6/dist-packages (from Flask==1.0) (2.11.1)\n",
            "Requirement already satisfied: Werkzeug>=0.14 in /usr/local/lib/python3.6/dist-packages (from Flask==1.0) (1.0.0)\n",
            "Requirement already satisfied: idna<2.7,>=2.5 in /usr/local/lib/python3.6/dist-packages (from requests==2.18.4) (2.6)\n",
            "Requirement already satisfied: certifi>=2017.4.17 in /usr/local/lib/python3.6/dist-packages (from requests==2.18.4) (2019.11.28)\n",
            "Requirement already satisfied: urllib3<1.23,>=1.21.1 in /usr/local/lib/python3.6/dist-packages (from requests==2.18.4) (1.22)\n",
            "Requirement already satisfied: chardet<3.1.0,>=3.0.2 in /usr/local/lib/python3.6/dist-packages (from requests==2.18.4) (3.0.4)\n",
            "Requirement already satisfied: MarkupSafe>=0.23 in /usr/local/lib/python3.6/dist-packages (from Jinja2>=2.10->Flask==1.0) (1.1.1)\n"
          ],
          "name": "stdout"
        }
      ]
    },
    {
      "cell_type": "code",
      "metadata": {
        "id": "SAdQOigs9hRK",
        "colab_type": "code",
        "colab": {
          "base_uri": "https://localhost:8080/",
          "height": 269
        },
        "outputId": "f5c25a18-ae22-4f3e-d382-b5dd6be09f46"
      },
      "source": [
        "! pip install flask-ngrok"
      ],
      "execution_count": 4,
      "outputs": [
        {
          "output_type": "stream",
          "text": [
            "Collecting flask-ngrok\n",
            "  Downloading https://files.pythonhosted.org/packages/af/6c/f54cb686ad1129e27d125d182f90f52b32f284e6c8df58c1bae54fa1adbc/flask_ngrok-0.0.25-py3-none-any.whl\n",
            "Requirement already satisfied: requests in /usr/local/lib/python3.6/dist-packages (from flask-ngrok) (2.21.0)\n",
            "Requirement already satisfied: Flask>=0.8 in /usr/local/lib/python3.6/dist-packages (from flask-ngrok) (1.1.1)\n",
            "Requirement already satisfied: certifi>=2017.4.17 in /usr/local/lib/python3.6/dist-packages (from requests->flask-ngrok) (2019.11.28)\n",
            "Requirement already satisfied: idna<2.9,>=2.5 in /usr/local/lib/python3.6/dist-packages (from requests->flask-ngrok) (2.8)\n",
            "Requirement already satisfied: chardet<3.1.0,>=3.0.2 in /usr/local/lib/python3.6/dist-packages (from requests->flask-ngrok) (3.0.4)\n",
            "Requirement already satisfied: urllib3<1.25,>=1.21.1 in /usr/local/lib/python3.6/dist-packages (from requests->flask-ngrok) (1.24.3)\n",
            "Requirement already satisfied: itsdangerous>=0.24 in /usr/local/lib/python3.6/dist-packages (from Flask>=0.8->flask-ngrok) (1.1.0)\n",
            "Requirement already satisfied: click>=5.1 in /usr/local/lib/python3.6/dist-packages (from Flask>=0.8->flask-ngrok) (7.0)\n",
            "Requirement already satisfied: Werkzeug>=0.15 in /usr/local/lib/python3.6/dist-packages (from Flask>=0.8->flask-ngrok) (1.0.0)\n",
            "Requirement already satisfied: Jinja2>=2.10.1 in /usr/local/lib/python3.6/dist-packages (from Flask>=0.8->flask-ngrok) (2.11.1)\n",
            "Requirement already satisfied: MarkupSafe>=0.23 in /usr/local/lib/python3.6/dist-packages (from Jinja2>=2.10.1->Flask>=0.8->flask-ngrok) (1.1.1)\n",
            "Installing collected packages: flask-ngrok\n",
            "Successfully installed flask-ngrok-0.0.25\n"
          ],
          "name": "stdout"
        }
      ]
    },
    {
      "cell_type": "code",
      "metadata": {
        "id": "z1PxNpzxW9nN",
        "colab_type": "code",
        "colab": {}
      },
      "source": [
        "class Transaction:\n",
        "\n",
        "    def __init__(self, sender_address, sender_private_key, recipient_address, value):\n",
        "        self.sender_address = sender_address\n",
        "        self.sender_private_key = sender_private_key\n",
        "        self.recipient_address = recipient_address\n",
        "        self.value = value\n",
        "\n",
        "    def __getattr__(self, attr):\n",
        "        return self.data[attr]\n",
        "\n",
        "    def to_dict(self):\n",
        "        return OrderedDict({'sender_address': self.sender_address,\n",
        "                            'recipient_address': self.recipient_address,\n",
        "                            'value': self.value})\n",
        "\n",
        "    def sign_transaction(self):\n",
        "        \"\"\"\n",
        "        Sign transaction with private key\n",
        "        \"\"\"\n",
        "        private_key = RSA.importKey(binascii.unhexlify(self.sender_private_key))\n",
        "        signer = PKCS1_v1_5.new(private_key)\n",
        "        h = SHA.new(str(self.to_dict()).encode('utf8'))\n",
        "        return binascii.hexlify(signer.sign(h)).decode('ascii')"
      ],
      "execution_count": 0,
      "outputs": []
    },
    {
      "cell_type": "code",
      "metadata": {
        "id": "iTjZYURQP4j1",
        "colab_type": "code",
        "colab": {}
      },
      "source": [
        "@app.route('/')\n",
        "def index():\n",
        "  return render_template('./index.html')\n",
        "\n",
        "@app.route('/make/transaction')\n",
        "def make_transaction():\n",
        "    return render_template('./make_transaction.html')\n",
        "\n",
        "@app.route('/view/transactions')\n",
        "def view_transaction():\n",
        "    return render_template('./view_transactions.html')"
      ],
      "execution_count": 0,
      "outputs": []
    },
    {
      "cell_type": "code",
      "metadata": {
        "id": "dJ1veedxXX4D",
        "colab_type": "code",
        "colab": {}
      },
      "source": [
        "@app.route('/wallet/new', methods=['GET'])\n",
        "def new_wallet():\n",
        "  random_gen = Crypto.Random.new().read\n",
        "  private_key = RSA.generate(1024, random_gen)\n",
        "  public_key = private_key.publickey()\n",
        "  response = {\n",
        "    'private_key': binascii.hexlify(private_key.exportKey(format='DER')).decode('ascii'),\n",
        "    'public_key': binascii.hexlify(public_key.exportKey(format='DER')).decode('ascii')\n",
        "  }\n",
        "\n",
        "  return jsonify(response), 200"
      ],
      "execution_count": 0,
      "outputs": []
    },
    {
      "cell_type": "code",
      "metadata": {
        "id": "uS2DEcZKXk-c",
        "colab_type": "code",
        "colab": {}
      },
      "source": [
        "import hashlib\n",
        "import json\n",
        "\n",
        "from time import time\n",
        "from uuid import uuid4\n",
        "\n",
        "\n",
        "class Blockchain:\n",
        "\n",
        "    def __init__(self):\n",
        "\n",
        "        self.transactions = []\n",
        "        self.chain = []\n",
        "        self.nodes = set()\n",
        "        #Generate random number to be used as node_id\n",
        "        self.node_id = str(uuid4()).replace('-', '')\n",
        "        #Create genesis block\n",
        "        self.create_block(0, '00')\n",
        "\n",
        "    def register_node(self, node_url):\n",
        "        \"\"\"\n",
        "        Add a new node to the list of nodes\n",
        "        \"\"\"\n",
        "        ...\n",
        "\n",
        "    def verify_transaction_signature(self, sender_address, signature, transaction):\n",
        "        \"\"\"\n",
        "        Check that the provided signature corresponds to transaction\n",
        "        signed by the public key (sender_address)\n",
        "        \"\"\"\n",
        "        ...\n",
        "\n",
        "    def submit_transaction(self, sender_address, recipient_address, value, signature):\n",
        "        \"\"\"\n",
        "        Add a transaction to transactions array if the signature verified\n",
        "        \"\"\"\n",
        "        ...\n",
        "\n",
        "    def create_block(self, nonce, previous_hash):\n",
        "        \"\"\"\n",
        "        Add a block of transactions to the blockchain\n",
        "        \"\"\"\n",
        "        ...\n",
        "\n",
        "    def hash(self, block):\n",
        "        \"\"\"\n",
        "        Create a SHA-256 hash of a block\n",
        "        \"\"\"\n",
        "        ...\n",
        "\n",
        "    def proof_of_work(self):\n",
        "        \"\"\"\n",
        "        Proof of work algorithm\n",
        "        \"\"\"\n",
        "        ...\n",
        "\n",
        "   "
      ],
      "execution_count": 0,
      "outputs": []
    },
    {
      "cell_type": "code",
      "metadata": {
        "id": "ACzNfvp3YTuv",
        "colab_type": "code",
        "colab": {
          "base_uri": "https://localhost:8080/",
          "height": 202
        },
        "outputId": "7fcd37eb-23c2-485f-afcc-7a23b722c3de"
      },
      "source": [
        "\n",
        "import hashlib\n",
        "import json\n",
        "from textwrap import dedent\n",
        "from time import time\n",
        "from uuid import uuid4\n",
        "\n",
        "from flask_ngrok import run_with_ngrok\n",
        "from flask import Flask, jsonify, request\n",
        "\n",
        "app = Flask(__name__)\n",
        "run_with_ngrok(app)   #starts ngrok when the app is run\n",
        "@app.route(\"/\")\n",
        "\n",
        "@app.route('/generate/transaction', methods=['POST'])\n",
        "def generate_transaction():\n",
        "\n",
        "  sender_address = request.form['sender_address']\n",
        "  sender_private_key = request.form['sender_private_key']\n",
        "  recipient_address = request.form['recipient_address']\n",
        "  value = request.form['amount']\n",
        "\n",
        "  transaction = Transaction(sender_address, sender_private_key, recipient_address, value)\n",
        "\n",
        "  response = {'transaction': transaction.to_dict(), 'signature': transaction.sign_transaction()}\n",
        "\n",
        "  return jsonify(response), 200\n",
        "\n",
        "@app.route('/transactions/new', methods=['POST'])\n",
        "def new_transaction():\n",
        "    values = request.form\n",
        "\n",
        "    # Check that the required fields are in the POST'ed data\n",
        "    required = ['sender_address', 'recipient_address', 'amount', 'signature']\n",
        "    if not all(k in values for k in required):\n",
        "        return 'Missing values', 400\n",
        "    # Create a new Transaction\n",
        "    transaction_result = blockchain.submit_transaction(values['sender_address'], values['recipient_address'], values['amount'], values['signature'])\n",
        "\n",
        "    if transaction_result == False:\n",
        "        response = {'message': 'Invalid Transaction!'}\n",
        "        return jsonify(response), 406\n",
        "    else:\n",
        "        response = {'message': 'Transaction will be added to Block '+ str(transaction_result)}\n",
        "        return jsonify(response), 201\n",
        "\n",
        "@app.route('/transactions/get', methods=['GET'])\n",
        "def get_transactions():\n",
        "    #Get transactions from transactions pool\n",
        "    transactions = blockchain.transactions\n",
        "\n",
        "    response = {'transactions': transactions}\n",
        "    return jsonify(response), 200\n",
        "\n",
        "@app.route('/chain', methods=['GET'])\n",
        "def full_chain():\n",
        "    response = {\n",
        "        'chain': blockchain.chain,\n",
        "        'length': len(blockchain.chain),\n",
        "    }\n",
        "    return jsonify(response), 200\n",
        "\n",
        "@app.route('/mine', methods=['GET'])\n",
        "def mine():\n",
        "    # We run the proof of work algorithm to get the next proof...\n",
        "    last_block = blockchain.chain[-1]\n",
        "    nonce = blockchain.proof_of_work()\n",
        "\n",
        "    # We must receive a reward for finding the proof.\n",
        "    blockchain.submit_transaction(sender_address=MINING_SENDER, recipient_address=blockchain.node_id, value=MINING_REWARD, signature=\"\")\n",
        "\n",
        "    # Forge the new Block by adding it to the chain\n",
        "    previous_hash = blockchain.hash(last_block)\n",
        "    block = blockchain.create_block(nonce, previous_hash)\n",
        "\n",
        "    response = {\n",
        "        'message': \"New Block Forged\",\n",
        "        'block_number': block['block_number'],\n",
        "        'transactions': block['transactions'],\n",
        "        'nonce': block['nonce'],\n",
        "        'previous_hash': block['previous_hash'],\n",
        "    }\n",
        "    return jsonify(response), 200\n",
        "\n",
        "if __name__ == '__main__':\n",
        "    app.run()"
      ],
      "execution_count": 19,
      "outputs": [
        {
          "output_type": "stream",
          "text": [
            " * Serving Flask app \"__main__\" (lazy loading)\n",
            " * Environment: production\n",
            "   WARNING: This is a development server. Do not use it in a production deployment.\n",
            "   Use a production WSGI server instead.\n",
            " * Debug mode: off\n"
          ],
          "name": "stdout"
        },
        {
          "output_type": "stream",
          "text": [
            " * Running on http://127.0.0.1:5000/ (Press CTRL+C to quit)\n"
          ],
          "name": "stderr"
        },
        {
          "output_type": "stream",
          "text": [
            " * Running on http://5e46ab48.ngrok.io\n",
            " * Traffic stats available on http://127.0.0.1:4040\n"
          ],
          "name": "stdout"
        },
        {
          "output_type": "stream",
          "text": [
            "127.0.0.1 - - [01/Mar/2020 21:32:19] \"\u001b[31m\u001b[1mGET / HTTP/1.1\u001b[0m\" 400 -\n",
            "127.0.0.1 - - [01/Mar/2020 21:32:20] \"\u001b[33mGET /favicon.ico HTTP/1.1\u001b[0m\" 404 -\n",
            "127.0.0.1 - - [01/Mar/2020 21:32:30] \"\u001b[31m\u001b[1mGET / HTTP/1.1\u001b[0m\" 400 -\n"
          ],
          "name": "stderr"
        }
      ]
    },
    {
      "cell_type": "code",
      "metadata": {
        "id": "O6LDtVZlZglI",
        "colab_type": "code",
        "colab": {}
      },
      "source": [
        "from flask_ngrok import run_with_ngrok\n",
        "from flask import Flask\n",
        "app = Flask(__name__)\n",
        "run_with_ngrok(app)   #starts ngrok when the app is run\n",
        "@app.route(\"/\")\n",
        "def home():\n",
        "    return \"<h1>Running Flask on Google Colab!</h1>\"\n",
        "  \n",
        "app.run()"
      ],
      "execution_count": 0,
      "outputs": []
    }
  ]
}